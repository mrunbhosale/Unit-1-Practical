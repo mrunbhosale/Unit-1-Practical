{
 "cells": [
  {
   "cell_type": "code",
   "execution_count": 1,
   "id": "7997800b",
   "metadata": {},
   "outputs": [],
   "source": [
    "import pandas as pd\n",
    "import numpy as np\n",
    "from sklearn.model_selection import train_test_split\n",
    "from sklearn.preprocessing import LabelEncoder, StandardScaler, OneHotEncoder\n",
    "from tensorflow.keras.models import Sequential\n",
    "from tensorflow.keras.layers import Dense"
   ]
  },
  {
   "cell_type": "code",
   "execution_count": 2,
   "id": "e2cd870c",
   "metadata": {},
   "outputs": [],
   "source": [
    "train_data = pd.read_csv('train-data.csv')\n",
    "test_data = pd.read_csv('test-data.csv')"
   ]
  },
  {
   "cell_type": "code",
   "execution_count": 3,
   "id": "9e42248d",
   "metadata": {},
   "outputs": [],
   "source": [
    "train_data = train_data.drop(['Unnamed: 0', 'New_Price'], axis=1)\n",
    "test_data = test_data.drop(['Unnamed: 0', 'New_Price'], axis=1)"
   ]
  },
  {
   "cell_type": "code",
   "execution_count": 4,
   "id": "72a3fe64",
   "metadata": {},
   "outputs": [],
   "source": [
    "train_data['Flag'] = 1\n",
    "test_data['Flag'] = 0"
   ]
  },
  {
   "cell_type": "code",
   "execution_count": 5,
   "id": "56779895",
   "metadata": {},
   "outputs": [],
   "source": [
    "combined_data = pd.concat([train_data, test_data])"
   ]
  },
  {
   "cell_type": "code",
   "execution_count": 6,
   "id": "e2e7bf74",
   "metadata": {},
   "outputs": [],
   "source": [
    "combined_data['Mileage'] = combined_data['Mileage'].str.extract('(\\d+\\.\\d+|\\d+)').astype(float)\n",
    "combined_data['Engine'] = combined_data['Engine'].str.extract('(\\d+)').astype(float).fillna(0).astype(int)\n",
    "combined_data['Power'] = combined_data['Power'].str.extract('(\\d+\\.\\d+|\\d+)').astype(float)"
   ]
  },
  {
   "cell_type": "code",
   "execution_count": 7,
   "id": "de35f59d",
   "metadata": {},
   "outputs": [],
   "source": [
    "label_encoder = LabelEncoder()\n",
    "categorical_cols = ['Name', 'Location', 'Fuel_Type', 'Transmission', 'Owner_Type']\n",
    "for col in categorical_cols:\n",
    "    combined_data[col] = label_encoder.fit_transform(combined_data[col])"
   ]
  },
  {
   "cell_type": "code",
   "execution_count": 8,
   "id": "c236a648",
   "metadata": {},
   "outputs": [],
   "source": [
    "onehot_encoder = OneHotEncoder(sparse=False)\n",
    "encoded_data = onehot_encoder.fit_transform(combined_data)"
   ]
  },
  {
   "cell_type": "code",
   "execution_count": 9,
   "id": "7182b4fc",
   "metadata": {},
   "outputs": [],
   "source": [
    "X_train = encoded_data[combined_data['Flag'] == 1, :-1]\n",
    "y_train = encoded_data[combined_data['Flag'] == 1, -1]\n",
    "X_test = encoded_data[combined_data['Flag'] == 0, :-1]"
   ]
  },
  {
   "cell_type": "code",
   "execution_count": 10,
   "id": "ffc17d0d",
   "metadata": {},
   "outputs": [],
   "source": [
    "X_train = np.nan_to_num(X_train)\n",
    "y_train = np.nan_to_num(y_train)\n",
    "X_test = np.nan_to_num(X_test)"
   ]
  },
  {
   "cell_type": "code",
   "execution_count": 11,
   "id": "2f585e62",
   "metadata": {},
   "outputs": [],
   "source": [
    "scaler = StandardScaler()\n",
    "X_train_scaled = scaler.fit_transform(X_train)\n",
    "X_test_scaled = scaler.transform(X_test)"
   ]
  },
  {
   "cell_type": "code",
   "execution_count": 12,
   "id": "5efb621d",
   "metadata": {},
   "outputs": [],
   "source": [
    "model = Sequential()\n",
    "model.add(Dense(128, activation='relu', input_dim=X_train_scaled.shape[1]))\n",
    "model.add(Dense(64, activation='relu'))\n",
    "model.add(Dense(1, activation='relu'))"
   ]
  },
  {
   "cell_type": "code",
   "execution_count": 13,
   "id": "6cd324ac",
   "metadata": {},
   "outputs": [],
   "source": [
    "model.compile(optimizer='adam', loss='mean_squared_error')"
   ]
  },
  {
   "cell_type": "code",
   "execution_count": 14,
   "id": "72e4794e",
   "metadata": {},
   "outputs": [
    {
     "name": "stdout",
     "output_type": "stream",
     "text": [
      "Epoch 1/10\n",
      "189/189 [==============================] - 2s 13ms/step - loss: 0.3003\n",
      "Epoch 2/10\n",
      "189/189 [==============================] - 2s 10ms/step - loss: 0.3816\n",
      "Epoch 3/10\n",
      "189/189 [==============================] - 2s 10ms/step - loss: 0.4010\n",
      "Epoch 4/10\n",
      "189/189 [==============================] - 2s 10ms/step - loss: 0.2077\n",
      "Epoch 5/10\n",
      "189/189 [==============================] - 2s 10ms/step - loss: 0.0987\n",
      "Epoch 6/10\n",
      "189/189 [==============================] - 2s 10ms/step - loss: 0.0430\n",
      "Epoch 7/10\n",
      "189/189 [==============================] - 2s 10ms/step - loss: 0.0186\n",
      "Epoch 8/10\n",
      "189/189 [==============================] - 2s 10ms/step - loss: 0.0120\n",
      "Epoch 9/10\n",
      "189/189 [==============================] - 2s 10ms/step - loss: 0.0054\n",
      "Epoch 10/10\n",
      "189/189 [==============================] - 2s 10ms/step - loss: 0.0036\n"
     ]
    },
    {
     "data": {
      "text/plain": [
       "<tensorflow.python.keras.callbacks.History at 0x228542f0bc8>"
      ]
     },
     "execution_count": 14,
     "metadata": {},
     "output_type": "execute_result"
    }
   ],
   "source": [
    "model.fit(X_train_scaled, y_train, epochs=10, batch_size=32)"
   ]
  },
  {
   "cell_type": "code",
   "execution_count": 15,
   "id": "8313e749",
   "metadata": {},
   "outputs": [
    {
     "name": "stdout",
     "output_type": "stream",
     "text": [
      "[[0.7270334 ]\n",
      " [0.97732383]\n",
      " [1.0129025 ]\n",
      " ...\n",
      " [0.94560343]\n",
      " [0.9402496 ]\n",
      " [0.9921563 ]]\n"
     ]
    }
   ],
   "source": [
    "predictions = model.predict(X_test_scaled)\n",
    "\n",
    "\n",
    "print(predictions)"
   ]
  },
  {
   "cell_type": "code",
   "execution_count": null,
   "id": "743729f8",
   "metadata": {},
   "outputs": [],
   "source": []
  }
 ],
 "metadata": {
  "kernelspec": {
   "display_name": "Python 3 (ipykernel)",
   "language": "python",
   "name": "python3"
  },
  "language_info": {
   "codemirror_mode": {
    "name": "ipython",
    "version": 3
   },
   "file_extension": ".py",
   "mimetype": "text/x-python",
   "name": "python",
   "nbconvert_exporter": "python",
   "pygments_lexer": "ipython3",
   "version": "3.7.13"
  }
 },
 "nbformat": 4,
 "nbformat_minor": 5
}
